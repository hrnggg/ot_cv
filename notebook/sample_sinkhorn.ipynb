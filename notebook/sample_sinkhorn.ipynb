{
 "cells": [
  {
   "cell_type": "code",
   "execution_count": 1,
   "id": "a2b971fb-a7c2-421d-bb3d-db2f767d65e4",
   "metadata": {},
   "outputs": [],
   "source": [
    "import numpy as np\n",
    "import ot\n",
    "import torch\n",
    "import torch.nn as nn\n",
    "import torch.optim as optim"
   ]
  },
  {
   "cell_type": "code",
   "execution_count": 2,
   "id": "fb006229-594a-4970-a647-47cd64ff8ba6",
   "metadata": {},
   "outputs": [],
   "source": [
    "# https://www.slideshare.net/joisino/ss-251328369\n",
    "# p35"
   ]
  },
  {
   "cell_type": "code",
   "execution_count": 3,
   "id": "7bbd04a7-43f4-40fe-8b79-fc617b228b12",
   "metadata": {},
   "outputs": [],
   "source": [
    "ws = np.array([0.2, 0.5, 0.2, 0.1])\n",
    "wt = np.array([0.3, 0.3, 0.4, 0.0])\n",
    "\n",
    "# https://stackoverflow.com/questions/58584413/black-formatter-ignore-specific-multi-line-code\n",
    "# fmt: off\n",
    "C = np.array([[0, 2, 2, 2],\n",
    "              [2, 0, 1, 2],\n",
    "              [2, 1, 0, 2],\n",
    "              [2, 2, 2, 0]])\n",
    "# fmt: on"
   ]
  },
  {
   "cell_type": "code",
   "execution_count": 4,
   "id": "193ff023-1081-4ab7-beb1-2fb6b8273190",
   "metadata": {},
   "outputs": [
    {
     "name": "stdout",
     "output_type": "stream",
     "text": [
      "[[0.2 0.  0.  0. ]\n",
      " [0.  0.3 0.2 0. ]\n",
      " [0.  0.  0.2 0. ]\n",
      " [0.1 0.  0.  0. ]]\n",
      "0.39999999999999997\n"
     ]
    }
   ],
   "source": [
    "# 汎用ソルバ・厳密ソルバによる解法\n",
    "# 線形計画問題として定式化→シンプレックス法とかで解く\n",
    "P_ = ot.emd(ws, wt, C)\n",
    "cost = ot.emd2(ws, wt, C)  # (P * C).sum()\n",
    "print(P_)\n",
    "print(cost)"
   ]
  },
  {
   "cell_type": "code",
   "execution_count": 5,
   "id": "f5e1bf9d-0dfa-4758-81c5-9addfeca6a08",
   "metadata": {},
   "outputs": [
    {
     "name": "stdout",
     "output_type": "stream",
     "text": [
      "[[0.20 0.00 0.00 0.00]\n",
      " [0.00 0.30 0.20 0.00]\n",
      " [0.00 0.00 0.20 0.00]\n",
      " [0.10 0.00 0.00 0.00]]\n",
      "0.3993214951621453\n"
     ]
    }
   ],
   "source": [
    "\"\"\"\n",
    "sinkhornでの解法\n",
    "- 高速\n",
    "- シンプル\n",
    "- ただし、厳密な最適輸送の解は求まらない\n",
    "\"\"\"\n",
    "eps = 0.1  # 大きいと高速、小さいと厳密に\n",
    "K = np.exp(-C / eps)  # Gibbs kernel\n",
    "\"\"\"\n",
    "u = exp(f/eps)\n",
    "v = exp(g/eps)\n",
    "\"\"\"\n",
    "u = np.ones(4)\n",
    "for i in range(100):\n",
    "    v = wt / (K.T @ u)\n",
    "    u = ws / (K @ v)\n",
    "# f = eps * np.log(u + 1e-9)  # シンクホーン変数から元の双対変数へ\n",
    "# g = eps * np.log(v + 1e-9)\n",
    "\"\"\"\n",
    "P = exp((f + g - C)/eps)\n",
    "f, gが完璧に収束しない限り、Pは厳密には実行可能とは限らない\n",
    "\"\"\"\n",
    "P = u.reshape(4, 1) * K * v.reshape(1, 4)  # 主問題の解\n",
    "np.set_printoptions(formatter={\"float\": \"{:.2f}\".format})\n",
    "print(P)\n",
    "print((P * C).sum())"
   ]
  },
  {
   "cell_type": "code",
   "execution_count": 17,
   "id": "9ecb29b8-fbc6-4c00-b6ab-a9fdef494899",
   "metadata": {},
   "outputs": [
    {
     "name": "stdout",
     "output_type": "stream",
     "text": [
      "[[0.000 0.039 0.001 0.000 0.000 0.020 0.000 0.007 0.000 0.000 0.000 0.000]\n",
      " [0.000 0.000 0.067 0.000 0.000 0.000 0.000 0.000 0.000 0.000 0.000 0.000]\n",
      " [0.000 0.006 0.009 0.000 0.000 0.003 0.000 0.048 0.000 0.000 0.000 0.000]\n",
      " [0.000 0.012 0.000 0.000 0.000 0.051 0.000 0.003 0.000 0.000 0.000 0.000]\n",
      " [0.000 0.026 0.006 0.000 0.000 0.009 0.000 0.025 0.000 0.000 0.000 0.000]\n",
      " [0.031 0.000 0.000 0.022 0.000 0.000 0.000 0.000 0.008 0.005 0.000 0.000]\n",
      " [0.001 0.000 0.000 0.007 0.000 0.000 0.000 0.000 0.000 0.059 0.000 0.000]\n",
      " [0.048 0.000 0.000 0.009 0.000 0.000 0.000 0.000 0.008 0.002 0.000 0.000]\n",
      " [0.000 0.000 0.000 0.000 0.000 0.000 0.000 0.000 0.067 0.000 0.000 0.000]\n",
      " [0.004 0.000 0.000 0.045 0.000 0.000 0.000 0.000 0.000 0.017 0.000 0.000]\n",
      " [0.000 0.000 0.000 0.000 0.002 0.000 0.000 0.000 0.000 0.000 0.065 0.000]\n",
      " [0.000 0.000 0.000 0.000 0.058 0.000 0.000 0.000 0.000 0.000 0.008 0.000]\n",
      " [0.000 0.000 0.000 0.000 0.023 0.000 0.015 0.000 0.000 0.000 0.010 0.019]\n",
      " [0.000 0.000 0.000 0.000 0.000 0.000 0.067 0.000 0.000 0.000 0.000 0.000]\n",
      " [0.000 0.000 0.000 0.000 0.001 0.000 0.002 0.000 0.000 0.000 0.000 0.064]]\n",
      "tensor(0.1115, grad_fn=<SumBackward0>)\n"
     ]
    }
   ],
   "source": [
    "\"\"\"\n",
    "https://www.slideshare.net/joisino/ss-249394573\n",
    "p218\n",
    "シンクホーンは微分可能（特に、計算が行列演算のみのため、自動微分ライブラリが使える）\n",
    "微分の使いどころの例：配置問題\n",
    "倉庫: nコ\n",
    "工場: mコ\n",
    "j番目の工場の位置は(x_j, y_j)で、b_jグラムの小麦粉を要求\n",
    "i番目の倉庫は小麦粉をa_iグラム保存可能\n",
    "（倉庫から工場への総輸送コストを最小化するには、輸送行列をどのように設定し、）\n",
    "各倉庫をどこに配置すればよいか？\n",
    "→2つの問題を解く？\n",
    "\n",
    "解き方\n",
    "1.倉庫の位置変数をランダム初期化\n",
    "2.C_i_j = 倉庫iと工場jの距離として計算\n",
    "3.sinkhornに(a, b, C)を入力して総輸送コストを評価\n",
    "4.倉庫の位置変数の勾配を求めて倉庫の位置を改善→2へ\n",
    "\"\"\"\n",
    "\n",
    "torch.manual_seed(0)\n",
    "\n",
    "x = torch.rand(5, 2)\n",
    "y = torch.rand(5, 2) + torch.FloatTensor([0, 2])\n",
    "z = torch.rand(5, 2) + torch.FloatTensor([1, 1])\n",
    "mu = torch.cat([x, y, z])\n",
    "# step 1\n",
    "# nu = nn.parameter.Parameter(torch.rand(12, 2) * 2)  # 位置変数のつもり\n",
    "nu = torch.rand(12, 2) * 2\n",
    "nu.requires_grad = True\n",
    "n, m = len(mu), len(nu)\n",
    "a = torch.ones(n) / n\n",
    "b = torch.ones(m) / m\n",
    "\n",
    "eps = 0.1\n",
    "optimizer = optim.SGD([nu], lr=1.0)\n",
    "for it in range(100):\n",
    "    # step 2\n",
    "    C = torch.linalg.norm(mu.reshape(n, 1, 2) - nu.reshape(1, m, 2), axis=2)\n",
    "    K = torch.exp(-C / eps)\n",
    "    u = torch.ones(n)\n",
    "    for i in range(100):\n",
    "        v = b / (K.T @ u)\n",
    "        u = a / (K @ v)\n",
    "\n",
    "    # f = eps * torch.log(u + 1e-9)\n",
    "    # g = eps * torch.log(v + 1e-9)\n",
    "\n",
    "    # step 3\n",
    "    P = u.reshape(n, 1) * K * v.reshape(1, m)\n",
    "    loss = (P * C).sum()\n",
    "    # step 4\n",
    "    optimizer.zero_grad()\n",
    "    loss.backward()\n",
    "    optimizer.step()\n",
    "\n",
    "np.set_printoptions(formatter={\"float\": \"{:.3f}\".format})\n",
    "print(P.detach().cpu().numpy())\n",
    "print(loss)\n",
    "# print(nu)"
   ]
  },
  {
   "cell_type": "code",
   "execution_count": 18,
   "id": "06176084-7a5c-49c1-a3b9-d69c6a536296",
   "metadata": {},
   "outputs": [
    {
     "name": "stdout",
     "output_type": "stream",
     "text": [
      "[[0.000 0.050 0.000 0.000 0.000 0.017 0.000 0.000 0.000 0.000 0.000 0.000]\n",
      " [0.000 0.000 0.067 0.000 0.000 0.000 0.000 0.000 0.000 0.000 0.000 0.000]\n",
      " [0.000 0.000 0.000 0.000 0.000 0.000 0.000 0.067 0.000 0.000 0.000 0.000]\n",
      " [0.000 0.000 0.000 0.000 0.000 0.067 0.000 0.000 0.000 0.000 0.000 0.000]\n",
      " [0.000 0.033 0.017 0.000 0.000 0.000 0.000 0.017 0.000 0.000 0.000 0.000]\n",
      " [0.017 0.000 0.000 0.033 0.000 0.000 0.000 0.000 0.017 0.000 0.000 0.000]\n",
      " [0.000 0.000 0.000 0.000 0.000 0.000 0.000 0.000 0.000 0.067 0.000 0.000]\n",
      " [0.067 0.000 0.000 0.000 0.000 0.000 0.000 0.000 0.000 0.000 0.000 0.000]\n",
      " [0.000 0.000 0.000 0.000 0.000 0.000 0.000 0.000 0.067 0.000 0.000 0.000]\n",
      " [0.000 0.000 0.000 0.050 0.000 0.000 0.000 0.000 0.000 0.017 0.000 0.000]\n",
      " [0.000 0.000 0.000 0.000 0.000 0.000 0.000 0.000 0.000 0.000 0.067 0.000]\n",
      " [0.000 0.000 0.000 0.000 0.067 0.000 0.000 0.000 0.000 0.000 0.000 0.000]\n",
      " [0.000 0.000 0.000 0.000 0.017 0.000 0.017 0.000 0.000 0.000 0.017 0.017]\n",
      " [0.000 0.000 0.000 0.000 0.000 0.000 0.067 0.000 0.000 0.000 0.000 0.000]\n",
      " [0.000 0.000 0.000 0.000 0.000 0.000 0.000 0.000 0.000 0.000 0.000 0.067]]\n",
      "0.0\n"
     ]
    }
   ],
   "source": [
    "a_ = a.detach().cpu().numpy()\n",
    "b_ = b.detach().cpu().numpy()\n",
    "C_ = C.detach().cpu().numpy()\n",
    "P_ = ot.emd(a_, b_, C_)\n",
    "cost = ot.emd2(a_, b_, C_)  # (P * C).sum()\n",
    "print(P_)\n",
    "print(cost)"
   ]
  },
  {
   "cell_type": "code",
   "execution_count": null,
   "id": "32f2e141-f6c0-4754-9c50-f04b0ca4ab7f",
   "metadata": {},
   "outputs": [],
   "source": []
  }
 ],
 "metadata": {
  "kernelspec": {
   "display_name": "Python 3 (ipykernel)",
   "language": "python",
   "name": "python3"
  },
  "language_info": {
   "codemirror_mode": {
    "name": "ipython",
    "version": 3
   },
   "file_extension": ".py",
   "mimetype": "text/x-python",
   "name": "python",
   "nbconvert_exporter": "python",
   "pygments_lexer": "ipython3",
   "version": "3.9.13"
  }
 },
 "nbformat": 4,
 "nbformat_minor": 5
}
